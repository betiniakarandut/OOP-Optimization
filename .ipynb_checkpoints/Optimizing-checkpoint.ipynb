{
 "cells": [
  {
   "cell_type": "code",
   "execution_count": 11,
   "id": "bb6ae578",
   "metadata": {},
   "outputs": [
    {
     "name": "stdout",
     "output_type": "stream",
     "text": [
      "96\n",
      "for-Duration: 30.47560715675354 seconds\n",
      "96\n",
      "np-Duration: 0.06250500679016113 seconds\n",
      "96\n",
      "set-Duration: 0.01563119888305664 seconds\n"
     ]
    }
   ],
   "source": [
    "import time\n",
    "import pandas as pd\n",
    "import numpy as np\n",
    "\n",
    "\n",
    "with open('books_published_last_two_years.txt') as f:\n",
    "    recent_books = f.read().split('\\n')\n",
    "    \n",
    "    \n",
    "with open('all_coding_books.txt') as f:\n",
    "    coding_books = f.read().split('\\n')\n",
    "\n",
    "    \n",
    "start = time.time()\n",
    "recent_coding_books = []\n",
    "\n",
    "\n",
    "for book in recent_books:\n",
    "    if book in coding_books:\n",
    "        recent_coding_books.append(book)\n",
    "print(len(recent_coding_books))\n",
    "print('for-Duration: {} seconds'.format(time.time() - start))\n",
    "\n",
    "\n",
    "# Tip #1: Use vector operations over loops when possible\n",
    "\n",
    "start = time.time()\n",
    "recent_coding_books =  np.intersect1d(recent_books, coding_books )\n",
    "print(len(recent_coding_books))\n",
    "print('np-Duration: {} seconds'.format(time.time() - start))\n",
    "\n",
    "\n",
    "#Tip #2 Using set method of intersection\n",
    "\n",
    "start = time.time()\n",
    "recent_coding_books = set(recent_books).intersection(coding_books)\n",
    "print(len(recent_coding_books))\n",
    "print('set-Duration: {} seconds'.format(time.time() - start))"
   ]
  },
  {
   "cell_type": "code",
   "execution_count": 2,
   "id": "a3946244",
   "metadata": {},
   "outputs": [
    {
     "name": "stdout",
     "output_type": "stream",
     "text": [
      "4340.347826086956\n",
      "vee 0.0 seconds\n"
     ]
    }
   ],
   "source": [
    "import time\n",
    "\n",
    "start = time.time()\n",
    "vee = ((34**3)+((348/23)-256))/9\n",
    "print(vee)\n",
    "print('vee {} seconds'.format(start - start))"
   ]
  },
  {
   "cell_type": "code",
   "execution_count": null,
   "id": "4f04f5be",
   "metadata": {},
   "outputs": [],
   "source": []
  }
 ],
 "metadata": {
  "kernelspec": {
   "display_name": "Python 3 (ipykernel)",
   "language": "python",
   "name": "python3"
  },
  "language_info": {
   "codemirror_mode": {
    "name": "ipython",
    "version": 3
   },
   "file_extension": ".py",
   "mimetype": "text/x-python",
   "name": "python",
   "nbconvert_exporter": "python",
   "pygments_lexer": "ipython3",
   "version": "3.9.12"
  }
 },
 "nbformat": 4,
 "nbformat_minor": 5
}
